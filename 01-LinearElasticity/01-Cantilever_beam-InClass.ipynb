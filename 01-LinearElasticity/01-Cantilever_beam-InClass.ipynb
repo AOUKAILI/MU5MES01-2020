{
 "cells": [
  {
   "cell_type": "markdown",
   "metadata": {},
   "source": [
    "# FEniCS simulation of a cantilever beam"
   ]
  },
  {
   "cell_type": "markdown",
   "metadata": {},
   "source": [
    "The aim of this notebook is to setup a very simple FEniCS simulation. The framework is linear, plane strain elasticity. We model a cantilever beam ($L$: total length; $d$: depth), subjected to its own weight ($\\rho$: mass density per unit volume; $g$: gravity).\n",
    "\n",
    "The beam is homogenous and isotropic ($E$: Young modulus; $\\nu$: Poisson ratio) and clamped on the left end. Hooke's law reads\n",
    "\n",
    "\\begin{equation}\n",
    "\\sigma_{ij} = \\lambda\\varepsilon_{kk}\\delta_{ij}+2\\mu\\varepsilon_{ij},\n",
    "\\end{equation}\n",
    "\n",
    "where indices $i, j, k$ are restricted to $\\{1, 2\\}$ and $\\lambda$, $\\mu$ are the Lamé coefficients :\n",
    "\n",
    "\\begin{equation*}\n",
    "\\mu=\\frac{E}{2\\bigl(1+\\nu\\bigr)}\n",
    "\\quad\\text{and}\\quad\n",
    "\\lambda=\\frac{2\\mu\\nu}{1-2\\nu}.\n",
    "\\end{equation*}\n",
    "\n",
    "**Question:** how does Hooke's law read in *plane stress* elasticity?\n",
    "\n",
    "The variational formulation of the problem is the following:\n",
    "\n",
    "Find $u\\in \\mathcal{C}\\equiv\\{u: H^1(\\Omega), \\; u(x_1=0,x_2)=0\\}$ such that \n",
    "$\\forall v\\in \\mathcal{C}_0\\equiv \\mathcal{C}$\n",
    "\n",
    "\n",
    "\\begin{equation}\n",
    "\\int_\\Omega \\sigma(\\varepsilon(u)):\\varepsilon(v)\\,\\mathrm{d}x\\,\\mathrm{d}y =\n",
    "-\\int_{\\Omega}\\rho g\\,e_y\\cdot v\\,\\mathrm{d} x\\,\\mathrm{d} y,\n",
    "\\end{equation}\n",
    "\n",
    "where $\\sigma(\\varepsilon)$ is the constitutive equation and $\\varepsilon(u)=\\mathrm{sym} (\\nabla u)$  \n",
    "\n",
    "Remark: we work with only one unknown vector field, the displacement $u_x(x_1,x_2)$"
   ]
  },
  {
   "cell_type": "markdown",
   "metadata": {},
   "source": [
    "![image of beam](cantilever_beam.png \"Cantilever beam\")"
   ]
  },
  {
   "cell_type": "code",
   "execution_count": null,
   "metadata": {},
   "outputs": [],
   "source": [
    "import dolfin\n",
    "import matplotlib.pyplot as plt\n",
    "import numpy as np"
   ]
  },
  {
   "cell_type": "markdown",
   "metadata": {},
   "source": [
    "## 1) Start with defining the mesh"
   ]
  },
  {
   "cell_type": "code",
   "execution_count": null,
   "metadata": {},
   "outputs": [],
   "source": [
    "# geometry and mesh \n",
    "L = 1. # total length\n",
    "d = L/20. # thickness\n",
    "h = d/16. # size of a cell"
   ]
  },
  {
   "cell_type": "markdown",
   "metadata": {},
   "source": [
    "use\n",
    "\n",
    "```\n",
    "RectangleMesh()\n",
    "\n",
    "plot(mesh)\n",
    "```"
   ]
  },
  {
   "cell_type": "markdown",
   "metadata": {},
   "source": [
    "## 2) Choose an element (Lagrange of degree 1)"
   ]
  },
  {
   "cell_type": "markdown",
   "metadata": {},
   "source": [
    "use\n",
    "\n",
    "```\n",
    "FunctionSpace( )\n",
    "```\n",
    "\n",
    "or ? \n",
    "\n",
    "```\n",
    "VectorFunctionSpace( )\n",
    "```"
   ]
  },
  {
   "cell_type": "markdown",
   "metadata": {},
   "source": [
    "## 3) Define the stress\n",
    "\n",
    "$u_i$ is  the displacement vector (note: $u=u(x_1,x_2)$)\n",
    "\n",
    "and \n",
    "\n",
    "$\\epsilon_{ij} = \\frac12\\bigl(\\partial_i u_j+\\partial_j u_i\\bigr)$ is the stress tensor."
   ]
  },
  {
   "cell_type": "code",
   "execution_count": null,
   "metadata": {},
   "outputs": [],
   "source": [
    "# use def to define the fonction epsilon = epsilon(u), just like\n",
    "def fonction(x):\n",
    "    return x**2"
   ]
  },
  {
   "cell_type": "markdown",
   "metadata": {},
   "source": [
    "## 4) Write down Hooke's law"
   ]
  },
  {
   "cell_type": "code",
   "execution_count": null,
   "metadata": {},
   "outputs": [],
   "source": [
    "# here we use the values\n",
    "E = 1.0\n",
    "nu = 0.3\n",
    "\n",
    "# Hook's law is written as the top of this notebook\n",
    "def sigma(epsilon):\n",
    "    return XXXXXXXXX"
   ]
  },
  {
   "cell_type": "markdown",
   "metadata": {},
   "source": [
    "## 5) Name `u` the `TrialFunction` and `v` the `TestFunction`"
   ]
  },
  {
   "cell_type": "markdown",
   "metadata": {},
   "source": [
    "## 6) Introduce the bilinear form\n",
    "\\begin{equation}\n",
    "\\int_\\Omega \\sigma(\\varepsilon(u)):\\varepsilon(v)\\,\\mathrm{d}x\\,\\mathrm{d}y\n",
    "\\end{equation}\n",
    "\n",
    "What is the difference between `dolfin.dot( )` and `dolfin.inner( )` ?"
   ]
  },
  {
   "cell_type": "markdown",
   "metadata": {},
   "source": [
    "## 7) Introduce the linear form\n",
    "\n",
    "\\begin{equation}\n",
    "-\\int_{\\Omega}\\rho g\\,e_y\\cdot v\\,\\mathrm{d} x\\,\\mathrm{d} y.\n",
    "\\end{equation}"
   ]
  },
  {
   "cell_type": "code",
   "execution_count": null,
   "metadata": {},
   "outputs": [],
   "source": [
    "# here we use the value\n",
    "g=1.0"
   ]
  },
  {
   "cell_type": "markdown",
   "metadata": {},
   "source": [
    "## 8)  Boundary conditions\n",
    "\n",
    "Dirichelet Boundary Condition: $u(0,x_2)=0 \\quad  \\forall x_2 \\in [-\\frac{d}{2},\\frac{d}{2}]$\n",
    "\n",
    "As $x_1=0$ is not well defined in our mesh, we write \n",
    "\n",
    "$u(x_1,x_2)=0 \\quad \\forall x_1 \\ll L  \\text{ and } \\forall x_2 \\in [-\\frac{d}{2},\\frac{d}{2}]$\n"
   ]
  },
  {
   "cell_type": "markdown",
   "metadata": {},
   "source": [
    "## 9) Solving the discretized problem"
   ]
  },
  {
   "cell_type": "code",
   "execution_count": null,
   "metadata": {},
   "outputs": [],
   "source": [
    "# We introduce the solution we are looking as a Function \n",
    "#\n",
    "usol = dolfin.Function(V)"
   ]
  },
  {
   "cell_type": "code",
   "execution_count": null,
   "metadata": {},
   "outputs": [],
   "source": [
    "# And we solve the linear problem using \n",
    "#\n",
    "dolfin.solve(bilinear_form == linear_form, usol, boundarycond)"
   ]
  },
  {
   "cell_type": "markdown",
   "metadata": {},
   "source": [
    "## 10) Using linear beam theory, we plot the vertical deflection of the solution \n",
    "\n",
    "$$H(x_1)=u_2(x_1,0)$$"
   ]
  },
  {
   "cell_type": "code",
   "execution_count": null,
   "metadata": {},
   "outputs": [],
   "source": [
    "# we introduce the coefficients\n",
    "D=E*d**3/12./(1.-nu**2) # bending rigidity of an elastic plate\n",
    "k=0.2 # unknown coefficient that we want to find (it is not equal to 0.2)\n",
    "Hmax = k*g*d/D # maximum vertical deflection, from linear 'beam' theory "
   ]
  },
  {
   "cell_type": "markdown",
   "metadata": {},
   "source": [
    "$$ H(x_1) = H_\\text{max} \\, \\left ( - \\frac{1}{3} \\, x_1^4 - \\frac{4}{3} \\, x_1 + \\frac{1}{3} \\right) $$"
   ]
  },
  {
   "cell_type": "code",
   "execution_count": null,
   "metadata": {},
   "outputs": [],
   "source": [
    "Hmax"
   ]
  },
  {
   "cell_type": "code",
   "execution_count": null,
   "metadata": {},
   "outputs": [],
   "source": [
    "x = np.linspace(0., L, num=50)\n",
    "H_formula = Hmax * (-1./3.*(x-1.)**4 - 4./3.*x + 1/3)\n",
    "\n",
    "plt.plot(x, H_formula, label='Beam theory')\n",
    "plt.xlabel('x[0]',color='red',fontsize=15)\n",
    "plt.ylabel('H',color='red',fontsize=15)\n",
    "plt.legend()"
   ]
  },
  {
   "cell_type": "markdown",
   "metadata": {},
   "source": [
    "## 11) On this plot, we add the plot of the numerically found  $u_2(x_1,0)$ and we change the value of $k$ for the two plots to coincide"
   ]
  },
  {
   "cell_type": "markdown",
   "metadata": {},
   "source": [
    "## 11) We plot the deformed beam, hanging under its own weight"
   ]
  },
  {
   "cell_type": "code",
   "execution_count": null,
   "metadata": {},
   "outputs": [],
   "source": [
    "# instead of plotting usol, we plot usol/Hmax with the correct value of k\n",
    "dolfin.plot(usol/Hmax, mode='displacement')"
   ]
  }
 ],
 "metadata": {
  "kernelspec": {
   "display_name": "Python 3",
   "language": "python",
   "name": "python3"
  },
  "language_info": {
   "codemirror_mode": {
    "name": "ipython",
    "version": 3
   },
   "file_extension": ".py",
   "mimetype": "text/x-python",
   "name": "python",
   "nbconvert_exporter": "python",
   "pygments_lexer": "ipython3",
   "version": "3.7.3"
  }
 },
 "nbformat": 4,
 "nbformat_minor": 4
}
